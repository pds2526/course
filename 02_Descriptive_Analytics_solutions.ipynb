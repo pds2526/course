{
 "cells": [
  {
   "cell_type": "code",
   "execution_count": null,
   "id": "eeadf66c",
   "metadata": {},
   "outputs": [],
   "source": [
    "import pandas as pd"
   ]
  },
  {
   "cell_type": "markdown",
   "id": "c29b117e",
   "metadata": {},
   "source": [
    "## Exercise\n",
    "\n",
    "Change the index of the previous DataFrame to the value in the customer column!\n",
    "Hint: To modify the index of an existing DataFrame df you may use df.set_index()."
   ]
  },
  {
   "cell_type": "code",
   "execution_count": null,
   "id": "4854f3a8",
   "metadata": {},
   "outputs": [],
   "source": [
    "df = pd.read_csv('https://raw.githubusercontent.com/GuntherGust/tds2_data/main/data/purchases.csv')\n",
    "df"
   ]
  },
  {
   "cell_type": "code",
   "execution_count": null,
   "id": "abc08df3",
   "metadata": {},
   "outputs": [],
   "source": [
    "df.set_index(\"customer\", inplace = True)\n",
    "df"
   ]
  },
  {
   "cell_type": "markdown",
   "id": "f488a857",
   "metadata": {},
   "source": [
    "## Exercises\n",
    "\n",
    "1. From the `movies_df`, select all movies that were released between 2005 and 2010, have a rating above 8.0, but made below the 25th percentile in revenue. Hint: You may use the method `quantile()`. \n"
   ]
  },
  {
   "cell_type": "code",
   "execution_count": null,
   "id": "5c96a5bd",
   "metadata": {},
   "outputs": [],
   "source": [
    "movies_df = pd.read_csv('https://raw.githubusercontent.com/GuntherGust/tds2_data/main/data/IMDB-Movie-Data.csv', index_col= \"Title\")\n",
    "\n",
    "movies_df.columns = ['rank', 'genre', 'description', 'director', 'actors', 'year', 'runtime', \n",
    "                     'rating', 'votes', 'revenue_millions', 'metascore']"
   ]
  },
  {
   "cell_type": "code",
   "execution_count": null,
   "id": "b225f0b7",
   "metadata": {},
   "outputs": [],
   "source": [
    "movies_df[\n",
    "    ((movies_df['year'] >= 2005) \n",
    "    & (movies_df['year'] <= 2010))\n",
    "    & (movies_df['rating'] > 8.0)\n",
    "    & (movies_df['revenue_millions'] < movies_df['revenue_millions'].quantile(0.25))\n",
    "]"
   ]
  },
  {
   "cell_type": "markdown",
   "id": "04bd9650",
   "metadata": {},
   "source": [
    "2. Im `movies_df` besitzt die Spalte \"metascore\" noch fehlende Werte. Füllen Sie die fehlenden Werte durch den Mittelwert des \"metascores\" des jeweiligen Genres auf. "
   ]
  },
  {
   "cell_type": "code",
   "execution_count": null,
   "id": "f3fe9de1",
   "metadata": {},
   "outputs": [],
   "source": [
    "movies_df[\"metascore\"].isna().sum() #Check how many entries are NA"
   ]
  },
  {
   "cell_type": "code",
   "execution_count": null,
   "id": "27ee15c3",
   "metadata": {},
   "outputs": [],
   "source": [
    "def fill_na_with_group_mean(group):\n",
    "    mean_value = group['metascore'].mean() # Calculate the mean of the 'Value' column for the current group\n",
    "    group['metascore'] = group['metascore'].fillna(mean_value) # Fill NaN values\n",
    "    return group  # Return the modified group with NaNs filled\n",
    "\n",
    "\n",
    "movies_df = movies_df.groupby('genre').apply(fill_na_with_group_mean)\n"
   ]
  },
  {
   "cell_type": "markdown",
   "id": "8270fe4b",
   "metadata": {},
   "source": [
    "Note that in some genres there is no movie with a metascore. For these genres, the imputation does not work:"
   ]
  },
  {
   "cell_type": "code",
   "execution_count": null,
   "id": "c98bd5f6",
   "metadata": {},
   "outputs": [],
   "source": [
    "movies_df[\"metascore\"].isna().sum() "
   ]
  }
 ],
 "metadata": {
  "kernelspec": {
   "display_name": "Python 3 (ipykernel)",
   "language": "python",
   "name": "python3"
  },
  "language_info": {
   "codemirror_mode": {
    "name": "ipython",
    "version": 3
   },
   "file_extension": ".py",
   "mimetype": "text/x-python",
   "name": "python",
   "nbconvert_exporter": "python",
   "pygments_lexer": "ipython3",
   "version": "3.9.13"
  }
 },
 "nbformat": 4,
 "nbformat_minor": 5
}
